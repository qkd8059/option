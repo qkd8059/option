{
 "cells": [
  {
   "cell_type": "markdown",
   "metadata": {},
   "source": [
    "# Part 2\n",
    "## question (a)\n",
    "**Here we use `np.linalg` to solve the linear equations.**\n",
    "\n",
    "In the following code, we conduct replicating for three times. In each time, we need to solve the linear equations $AX = b$, where$$X = (x, h), AX = \\overline{V}_{t+1}, b = \\overline{P}_{t+1}$$, $AX$ is the value of replicating portfolio at time $t+1$ discounting to time $t$, $b$ is the value of put option at time $t+1$ discounting to time $t$.\\\n",
    "Then in $(x,h)$, x is the value of replicating portfolio, h is the hedging position."
   ]
  },
  {
   "cell_type": "code",
   "execution_count": 1,
   "metadata": {},
   "outputs": [],
   "source": [
    "import numpy as np\n",
    "from fractions import Fraction\n",
    "\n",
    "def rep_pricing(s,u,d,k,r,f):\n",
    "    # t=1, w=U\n",
    "    a = np.array([[1,s*u*u/(1+r)-s*u+f],[1,s*u*d/(1+r)-s*u+f]])\n",
    "    b = np.array([max(0,k-s*u*u)/(1+r),max(0,k-s*u*d)/(1+r)])\n",
    "    x_u,h_u = np.linalg.solve(a,b)\n",
    "    assert(h_u<0)\n",
    "    \n",
    "    # t=1, w=D\n",
    "    a = np.array([[1,s*u*d/(1+r)-s*d+f],[1,s*d*d/(1+r)-s*d+f]])\n",
    "    b = np.array([max(0,k-s*u*d)/(1+r),max(0,k-s*d*d)/(1+r)])\n",
    "    x_d,h_d = np.linalg.solve(a,b)\n",
    "    assert(h_d<0)\n",
    "    \n",
    "    # t=0\n",
    "    a = np.array([[1,s*u/(1+r)-s+f],[1,s*d/(1+r)-s+f]])\n",
    "    b = np.array([x_u/(1+r),x_d/(1+r)])\n",
    "    x,h = np.linalg.solve(a,b)\n",
    "    assert(h<0)\n",
    "    \n",
    "    return x"
   ]
  },
  {
   "cell_type": "markdown",
   "metadata": {},
   "source": [
    "Then, the answer of question (a) is `rep_pricing(s=10,u=2,d=0.5,k=25,r=0.5,f=0)`. To note that, beacuse it is a perfect market without any short selling fee, we need to set f=0"
   ]
  },
  {
   "cell_type": "code",
   "execution_count": 2,
   "metadata": {},
   "outputs": [
    {
     "data": {
      "text/plain": [
       "4.074074074074075"
      ]
     },
     "execution_count": 2,
     "metadata": {},
     "output_type": "execute_result"
    }
   ],
   "source": [
    "rep_pricing(s=10,u=2,d=0.5,k=25,r=0.5,f=0)"
   ]
  },
  {
   "cell_type": "markdown",
   "metadata": {},
   "source": [
    "to show it in fraction form"
   ]
  },
  {
   "cell_type": "code",
   "execution_count": 3,
   "metadata": {},
   "outputs": [
    {
     "data": {
      "text/plain": [
       "Fraction(110, 27)"
      ]
     },
     "execution_count": 3,
     "metadata": {},
     "output_type": "execute_result"
    }
   ],
   "source": [
    "x = rep_pricing(s=10,u=2,d=0.5,k=25,r=0.5,f=0)\n",
    "Fraction(x).limit_denominator()"
   ]
  },
  {
   "cell_type": "markdown",
   "metadata": {},
   "source": [
    "Hence, the answer of question(a) is$$P_0=\\frac{110}{27}$$"
   ]
  },
  {
   "cell_type": "markdown",
   "metadata": {},
   "source": [
    "## qeustion (b)\n",
    "use the function we defined before, the answer of qeustion be should be `rep_pricing(s=10,u=2,d=0.5,k=25,r=0.5,f=0.2)`. The difference between the model in question (a) and (b) is the **short selling fee**. Here we set f=0.2"
   ]
  },
  {
   "cell_type": "code",
   "execution_count": 4,
   "metadata": {},
   "outputs": [
    {
     "data": {
      "text/plain": [
       "Fraction(28859, 6750)"
      ]
     },
     "execution_count": 4,
     "metadata": {},
     "output_type": "execute_result"
    }
   ],
   "source": [
    "x = rep_pricing(s=10,u=2,d=0.5,k=25,r=0.5,f=0.2)\n",
    "Fraction(x).limit_denominator()"
   ]
  },
  {
   "cell_type": "code",
   "execution_count": 5,
   "metadata": {},
   "outputs": [
    {
     "data": {
      "text/plain": [
       "4.275407407407408"
      ]
     },
     "execution_count": 5,
     "metadata": {},
     "output_type": "execute_result"
    }
   ],
   "source": [
    "x"
   ]
  },
  {
   "cell_type": "markdown",
   "metadata": {},
   "source": [
    "Hence, the answer of question (b) is $$P_0 = \\frac{28859}{6750} = 4.2754$$"
   ]
  },
  {
   "cell_type": "markdown",
   "metadata": {},
   "source": [
    "## question (c)\n",
    "In this part, let's plot an graph of put option price $P_0$ and short selling fee rate $f$."
   ]
  },
  {
   "cell_type": "code",
   "execution_count": 6,
   "metadata": {},
   "outputs": [
    {
     "data": {
      "text/plain": [
       "[Text(0.5, 1.0, 'relationship between option price and short selling fee'),\n",
       " Text(0, 0.5, 'put option price'),\n",
       " Text(0.5, 0, 'short selling fee rate')]"
      ]
     },
     "execution_count": 6,
     "metadata": {},
     "output_type": "execute_result"
    },
    {
     "data": {
      "image/png": "[encoded data removed]",
      "text/plain": [
       "<Figure size 432x288 with 1 Axes>"
      ]
     },
     "metadata": {},
     "output_type": "display_data"
    }
   ],
   "source": [
    "import matplotlib.pyplot as plt\n",
    "import seaborn as sns\n",
    "sns.set()\n",
    "\n",
    "fees = np.arange(0,10,0.02)\n",
    "prices = [rep_pricing(s=10,u=2,d=0.5,k=25,r=0.5,f=f) for f in fees]\n",
    "plt.plot(fees, prices)\n",
    "plt.gca().set(title=\"relationship between option price and short selling fee\",\n",
    "              ylabel='put option price', xlabel='short selling fee rate')"
   ]
  },
  {
   "cell_type": "code",
   "execution_count": null,
   "metadata": {},
   "outputs": [],
   "source": []
  }
 ],
 "metadata": {
  "kernelspec": {
   "display_name": "Python 3 (ipykernel)",
   "language": "python",
   "name": "python3"
  },
  "language_info": {
   "codemirror_mode": {
    "name": "ipython",
    "version": 3
   },
   "file_extension": ".py",
   "mimetype": "text/x-python",
   "name": "python",
   "nbconvert_exporter": "python",
   "pygments_lexer": "ipython3",
   "version": "3.8.3"
  }
 },
 "nbformat": 4,
 "nbformat_minor": 2
}
