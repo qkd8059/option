{
 "cells": [
  {
   "cell_type": "markdown",
   "metadata": {},
   "source": [
    "# Okapi, Option Pricing 2021\n",
    "\n",
    "# Part 1\n",
    "\n",
    "**Here we use `np.linalg` to solve the linear equations, and `Fraction` to demonstrate the digital value in fraction**\n"
   ]
  },
  {
   "cell_type": "code",
   "execution_count": 1,
   "metadata": {
    "pycharm": {
     "name": "#%%\n"
    }
   },
   "outputs": [],
   "source": [
    "import numpy as np\n",
    "from fractions import Fraction"
   ]
  },
  {
   "cell_type": "markdown",
   "metadata": {},
   "source": [
    "## Question f"
   ]
  },
  {
   "cell_type": "code",
   "execution_count": 2,
   "metadata": {
    "pycharm": {
     "name": "#%%\n"
    }
   },
   "outputs": [],
   "source": [
    "k = 40 # Strike of option Y\n",
    "r = 1 # interest rate\n",
    "s1 = [20, 30, 40, 60] # stock S1 price\n",
    "s2 = [10, 10, 20, 40] # stock S2 price\n",
    "c0 = 0.3 # initial price of option X"
   ]
  },
  {
   "cell_type": "markdown",
   "metadata": {},
   "source": [
    "The payoff of option Y is $(K-\\dfrac{1}{(1+r)}(S_1+S_2))^+$"
   ]
  },
  {
   "cell_type": "code",
   "execution_count": 3,
   "metadata": {
    "pycharm": {
     "name": "#%%\n"
    }
   },
   "outputs": [
    {
     "name": "stdout",
     "output_type": "stream",
     "text": [
      "The payoff of Option Y is [20.0, 10.0, 0]\n"
     ]
    }
   ],
   "source": [
    "payoff_Y = []\n",
    "for i in range (len(s1)-1):\n",
    "    payoff_Y.append (max(k-1/(1+r)*(s1[i+1]+s2[i+1]),0))\n",
    "print(\"The payoff of Option Y is\", payoff_Y)"
   ]
  },
  {
   "cell_type": "markdown",
   "metadata": {},
   "source": [
    "### 1st solution:\n",
    "Given the initial price of option X, $C_0 = 0.3$, we can compute the set of risk neutral probability $(q_1,q_2,q_3)$. From Question d), we know the payoff of X called $C = (1.2, 0.2, 0)^T$. As $C_0 = \\dfrac{1}{1+r}\\mathbb{E}^{\\mathbb{Q}}[C]$, we get $0.3 = \\dfrac{1}{2} (1.2q_1+0.2q_2+0q_3)$. By substituting $q_1=2q_3$ and $q_2=1-3q_3$, we get the EMM to be $\\mathcal{M} =  \\{(q_1,q_2,q_3):q_1=\\dfrac{4}{9},\\; q_2=\\dfrac{1}{3},\\; q_3=\\dfrac{2}{9}\\}$."
   ]
  },
  {
   "cell_type": "code",
   "execution_count": 4,
   "metadata": {
    "pycharm": {
     "name": "#%%\n"
    }
   },
   "outputs": [
    {
     "name": "stdout",
     "output_type": "stream",
     "text": [
      "The Equivalent Martingale Measure is q1= 4/9 ,q2= 1/3 ,q3= 2/9\n"
     ]
    }
   ],
   "source": [
    "# 1st solution, using EMM\n",
    "a = np.array([[1.2,0.2,0],[1,0,-2],[0,1,3]])\n",
    "b = np.array([0.6,0,1])\n",
    "q = np.linalg.solve(a,b)\n",
    "q1 = Fraction(q[0]).limit_denominator()\n",
    "q2 = Fraction(q[1]).limit_denominator()\n",
    "q3 = Fraction(q[2]).limit_denominator()\n",
    "print(\"The Equivalent Martingale Measure is q1=\",q1,\",q2=\",q2,\",q3=\",q3 )"
   ]
  },
  {
   "cell_type": "markdown",
   "metadata": {},
   "source": [
    "The initial price of option Y is $P_0 = \\dfrac{1}{1+r}\\mathbb{E}^{\\mathbb{Q}}[P]$"
   ]
  },
  {
   "cell_type": "code",
   "execution_count": 5,
   "metadata": {
    "pycharm": {
     "name": "#%%\n"
    }
   },
   "outputs": [
    {
     "name": "stdout",
     "output_type": "stream",
     "text": [
      "The initial price of option Y is 55/9\n"
     ]
    }
   ],
   "source": [
    "price_Y1 = Fraction(1/(1+r)*q.dot(payoff_Y)).limit_denominator()\n",
    "print(\"The initial price of option Y is\", price_Y1)"
   ]
  },
  {
   "cell_type": "markdown",
   "metadata": {},
   "source": [
    "### 2nd solution\n",
    "We can find the initial price of option Y by replication. The portfolio with initial wealth x and trading strategy h (number of shares) and z (number of call options) has payoff $\\bar{V_1} = x+h(\\bar{S_1}-S_0)+z(\\bar{C_1}-C_0)$ equal to\n",
    "\n",
    "\\begin{align}\n",
    "        x \\cdot\n",
    "    \\begin{pmatrix}\n",
    "        1\\\\\n",
    "        1\\\\\n",
    "        1\\\\\n",
    "    \\end{pmatrix}\n",
    "    +h\\cdot\n",
    "        \\begin{pmatrix}\n",
    "        \\dfrac{1}{2}(30)-20\\\\\n",
    "        \\dfrac{1}{2}(40)-20\\\\\n",
    "        \\dfrac{1}{2}(60)-20\\\\\n",
    "    \\end{pmatrix}\n",
    "    +z\\cdot\n",
    "        \\begin{pmatrix}\n",
    "        \\dfrac{1}{2}(1.2)-0.3\\\\\n",
    "        \\dfrac{1}{2}(0.2)-0.3\\\\\n",
    "        \\dfrac{1}{2}(0)-0.3\\\\\n",
    "        \\end{pmatrix}\n",
    "    =\n",
    "        \\begin{pmatrix}\n",
    "        x-5h+0.3z\\\\\n",
    "        x-0h-0.2z\\\\\n",
    "        x+10h-0.3z\n",
    "    \\end{pmatrix}\n",
    "\\end{align}\n",
    "Solving for $\\bar{P_1} = \\bar{V_1}$, gives\n",
    "\\begin{align} \\label{qf}\n",
    "    \\begin{pmatrix}\n",
    "        10\\\\\n",
    "        5\\\\\n",
    "        0\\\\\n",
    "    \\end{pmatrix}\n",
    "=\n",
    "        \\begin{pmatrix}\n",
    "        x-5h+0.3z\\\\\n",
    "        x-0h-0.2z\\\\\n",
    "        x+10h-0.3z\n",
    "    \\end{pmatrix}\n",
    "\\end{align}"
   ]
  },
  {
   "cell_type": "code",
   "execution_count": 6,
   "metadata": {
    "pycharm": {
     "name": "#%%\n"
    }
   },
   "outputs": [
    {
     "name": "stdout",
     "output_type": "stream",
     "text": [
      "The initial price of option Y is 55/9\n"
     ]
    }
   ],
   "source": [
    "c = np.array([[1,-5,0.3],[1,0,-0.2],[1,10,-0.3]])\n",
    "d = np.array([10,5,0])\n",
    "x,h,z = np.linalg.solve(c,d)\n",
    "price_Y2 = Fraction(x).limit_denominator()\n",
    "print(\"The initial price of option Y is\", price_Y2)"
   ]
  },
  {
   "cell_type": "markdown",
   "metadata": {},
   "source": [
    "# Question g"
   ]
  },
  {
   "cell_type": "markdown",
   "metadata": {},
   "source": [
    "### 1st Solution:\n",
    "We can solve this by computing explicitly the solution to the replication equation. From Question (f), we get $x=\\dfrac{55}{9}$,$h=-\\dfrac{4}{9}$,$z=\\dfrac{50}{9}$. The number of bonds equals to the remaining $x-hS_0-zC_0 = \\dfrac{55}{9} - 20(-\\dfrac{4}{9})-0.3(\\dfrac{50}{9})=\\dfrac{40}{3}$."
   ]
  },
  {
   "cell_type": "code",
   "execution_count": 7,
   "metadata": {
    "pycharm": {
     "name": "#%%\n"
    }
   },
   "outputs": [
    {
     "name": "stdout",
     "output_type": "stream",
     "text": [
      "The number of bonds in the portfolio to hedge option Y is: 40/3\n"
     ]
    }
   ],
   "source": [
    "num_bond1 = Fraction(x-h*s1[0]-z*c0).limit_denominator() # number of bond\n",
    "print(\"The number of bonds in the portfolio to hedge option Y is:\", num_bond1)"
   ]
  },
  {
   "cell_type": "markdown",
   "metadata": {},
   "source": [
    "### 2nd Solution\n",
    "Alternatively, let us use the positions in the bonds k, in the stocks h, and in the call options z. We look for k, h, and z which replicate the payoff of the put option Y, i.e.\n",
    "\t\t$V_1 = k(1+r)+hS_1+zC_1=P_1$ that is\n",
    "\t\t\\begin{align}\n",
    "    \\begin{pmatrix}\n",
    "        20\\\\\n",
    "        10\\\\\n",
    "        0\\\\\n",
    "    \\end{pmatrix}\n",
    "=\n",
    "        \\begin{pmatrix}\n",
    "        2k+30h+1.2z\\\\\n",
    "        2k+40h+0.2z\\\\\n",
    "        2k+60h+0z\n",
    "    \\end{pmatrix}\n",
    "\\end{align}\n",
    "which has the solution $k=\\dfrac{40}{3}$,$h=-\\dfrac{4}{9}$,$z=\\dfrac{50}{9}$."
   ]
  },
  {
   "cell_type": "code",
   "execution_count": 8,
   "metadata": {
    "pycharm": {
     "name": "#%%\n"
    }
   },
   "outputs": [
    {
     "name": "stdout",
     "output_type": "stream",
     "text": [
      "The number of bonds in the portfolio to hedge option Y is: 40/3\n"
     ]
    }
   ],
   "source": [
    "e = np.array([[2,30,1.2],[2,40,0.2],[2,60,0]])\n",
    "f = np.array([20,10,0])\n",
    "k,h1,z1 = np.linalg.solve(e,f)\n",
    "num_bond2 = Fraction(k).limit_denominator()\n",
    "print(\"The number of bonds in the portfolio to hedge option Y is:\", num_bond2)"
   ]
  },
  {
   "cell_type": "markdown",
   "metadata": {},
   "source": [
    "# Part 2\n",
    "## question (a)\n",
    "\n",
    "In the following code, we conduct replicating for three times. In each time, we need to solve the linear equations $AX = b$, where$$X = (x, h), AX = \\overline{V}_{t+1}, b = \\overline{P}_{t+1}$$, $AX$ is the value of replicating portfolio at time $t+1$ discounting to time $t$, $b$ is the value of put option at time $t+1$ discounting to time $t$.\\\n",
    "Then in $(x,h)$, x is the value of replicating portfolio, h is the hedging position."
   ]
  },
  {
   "cell_type": "code",
   "execution_count": 9,
   "metadata": {
    "pycharm": {
     "name": "#%%\n"
    }
   },
   "outputs": [],
   "source": [
    "def rep_pricing(s,u,d,k,r,f):\n",
    "    # t=1, w=U\n",
    "    a = np.array([[1,s*u*u/(1+r)-s*u+f],[1,s*u*d/(1+r)-s*u+f]])\n",
    "    b = np.array([max(0,k-s*u*u)/(1+r),max(0,k-s*u*d)/(1+r)])\n",
    "    x_u,h_u = np.linalg.solve(a,b)\n",
    "    assert(h_u<0)\n",
    "\n",
    "    # t=1, w=D\n",
    "    a = np.array([[1,s*u*d/(1+r)-s*d+f],[1,s*d*d/(1+r)-s*d+f]])\n",
    "    b = np.array([max(0,k-s*u*d)/(1+r),max(0,k-s*d*d)/(1+r)])\n",
    "    x_d,h_d = np.linalg.solve(a,b)\n",
    "    assert(h_d<0)\n",
    "\n",
    "    # t=0\n",
    "    a = np.array([[1,s*u/(1+r)-s+f],[1,s*d/(1+r)-s+f]])\n",
    "    b = np.array([x_u/(1+r),x_d/(1+r)])\n",
    "    x,h = np.linalg.solve(a,b)\n",
    "    assert(h<0)\n",
    "\n",
    "    return x"
   ]
  },
  {
   "cell_type": "markdown",
   "metadata": {},
   "source": [
    "Then, the answer of question (a) is `rep_pricing(s=10,u=2,d=0.5,k=25,r=0.5,f=0)`. To note that, beacuse it is a perfect market without any short selling fee, we need to set f=0"
   ]
  },
  {
   "cell_type": "code",
   "execution_count": 10,
   "metadata": {
    "pycharm": {
     "name": "#%%\n"
    }
   },
   "outputs": [
    {
     "data": {
      "text/plain": [
       "4.074074074074075"
      ]
     },
     "execution_count": 10,
     "metadata": {},
     "output_type": "execute_result"
    }
   ],
   "source": [
    "rep_pricing(s=10,u=2,d=0.5,k=25,r=0.5,f=0)"
   ]
  },
  {
   "cell_type": "markdown",
   "metadata": {},
   "source": [
    "to show it in fraction form"
   ]
  },
  {
   "cell_type": "code",
   "execution_count": 11,
   "metadata": {
    "pycharm": {
     "name": "#%%\n"
    }
   },
   "outputs": [
    {
     "data": {
      "text/plain": [
       "Fraction(110, 27)"
      ]
     },
     "execution_count": 11,
     "metadata": {},
     "output_type": "execute_result"
    }
   ],
   "source": [
    "x = rep_pricing(s=10,u=2,d=0.5,k=25,r=0.5,f=0)\n",
    "Fraction(x).limit_denominator()"
   ]
  },
  {
   "cell_type": "markdown",
   "metadata": {},
   "source": [
    "Hence, the answer of question(a) is$$P_0=\\frac{110}{27}$$"
   ]
  },
  {
   "cell_type": "markdown",
   "metadata": {},
   "source": [
    "## qeustion (b)\n",
    "use the function we defined before, the answer of qeustion be should be `rep_pricing(s=10,u=2,d=0.5,k=25,r=0.5,f=0.2)`. The difference between the model in question (a) and (b) is the **short selling fee**. Here we set f=0.2"
   ]
  },
  {
   "cell_type": "code",
   "execution_count": 12,
   "metadata": {
    "pycharm": {
     "name": "#%%\n"
    }
   },
   "outputs": [
    {
     "data": {
      "text/plain": [
       "Fraction(28859, 6750)"
      ]
     },
     "execution_count": 12,
     "metadata": {},
     "output_type": "execute_result"
    }
   ],
   "source": [
    "x = rep_pricing(s=10,u=2,d=0.5,k=25,r=0.5,f=0.2)\n",
    "Fraction(x).limit_denominator()"
   ]
  },
  {
   "cell_type": "code",
   "execution_count": 13,
   "metadata": {
    "pycharm": {
     "name": "#%%\n"
    }
   },
   "outputs": [
    {
     "data": {
      "text/plain": [
       "4.275407407407408"
      ]
     },
     "execution_count": 13,
     "metadata": {},
     "output_type": "execute_result"
    }
   ],
   "source": [
    "x"
   ]
  },
  {
   "cell_type": "markdown",
   "metadata": {},
   "source": [
    "Hence, the answer of question (b) is $$P_0 = \\frac{28859}{6750} = 4.2754$$"
   ]
  },
  {
   "cell_type": "markdown",
   "metadata": {},
   "source": [
    "## Appendix: question (c)\n",
    "In this part, let's plot an graph of put option price $P_0$ and short selling fee rate $f$."
   ]
  },
  {
   "cell_type": "code",
   "execution_count": 14,
   "metadata": {
    "pycharm": {
     "name": "#%%\n"
    }
   },
   "outputs": [
    {
     "data": {
      "text/plain": [
       "[Text(0.5, 1.0, 'relationship between option price and short selling fee'),\n",
       " Text(0, 0.5, 'put option price'),\n",
       " Text(0.5, 0, 'short selling fee rate')]"
      ]
     },
     "execution_count": 14,
     "metadata": {},
     "output_type": "execute_result"
    },
    {
     "data": {
      "image/png": "[encoded data removed]",
      "text/plain": [
       "<Figure size 432x288 with 1 Axes>"
      ]
     },
     "metadata": {},
     "output_type": "display_data"
    }
   ],
   "source": [
    "import matplotlib.pyplot as plt\n",
    "import seaborn as sns\n",
    "sns.set()\n",
    "\n",
    "fees = np.arange(0,100,0.02)\n",
    "prices = [rep_pricing(s=10,u=2,d=0.5,k=25,r=0.5,f=f) for f in fees]\n",
    "plt.plot(fees, prices)\n",
    "plt.gca().set(title=\"relationship between option price and short selling fee\",\n",
    "              ylabel='put option price', xlabel='short selling fee rate')"
   ]
  },
  {
   "cell_type": "markdown",
   "metadata": {},
   "source": [
    "According to the Appendix in the report, the relationship between option price and selling fee is quadratic.\n",
    "$$\\tilde{p}(1+r) = p(1+r) + \\left(\\left(\\frac{(f_{u d} - f_{u u}) - (f_u -f_d)}{u-d} - \\frac{f_{u u} - 2f_{u d} + f_{d d}}{(u-d)^2}\\right) + \\frac{f_{u u} - 2f_{u d} + f_{d d}}{(u-d)^2}F\\right)F,$$\n",
    "where $\\tilde{p}$ is the option price with short selling fee, $p$ is the option price without short selling fee (i.e. $F=0$), $F$ is the fee rate of short selling.\\\n",
    "The graph above is also an evidence for that conclusion."
   ]
  },
  {
   "cell_type": "code",
   "execution_count": null,
   "metadata": {
    "pycharm": {
     "name": "#%%\n"
    }
   },
   "outputs": [],
   "source": []
  }
 ],
 "metadata": {
  "kernelspec": {
   "display_name": "Python 3 (ipykernel)",
   "language": "python",
   "name": "python3"
  },
  "language_info": {
   "codemirror_mode": {
    "name": "ipython",
    "version": 3
   },
   "file_extension": ".py",
   "mimetype": "text/x-python",
   "name": "python",
   "nbconvert_exporter": "python",
   "pygments_lexer": "ipython3",
   "version": "3.8.3"
  }
 },
 "nbformat": 4,
 "nbformat_minor": 2
}
